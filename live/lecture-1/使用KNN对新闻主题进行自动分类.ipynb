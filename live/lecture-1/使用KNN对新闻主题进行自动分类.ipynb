{
 "cells": [
  {
   "cell_type": "markdown",
   "metadata": {
    "collapsed": true
   },
   "source": [
    "## 1 数据读取\n",
    "\n",
    "搜狐中文新闻数据存放在 ***train_sample_utf8.csv*** 和 ***test_sample_utf8.csv*** 两个文件中，在后面的分析中我们分别当做训练集和测试集来使用。我们首先使用 `Pandas` 中的 `read_csv` 函数读取。"
   ]
  },
  {
   "cell_type": "code",
   "execution_count": 1,
   "metadata": {
    "collapsed": false
   },
   "outputs": [],
   "source": [
    "import pandas as pd\n",
    "%matplotlib inline\n",
    "raw_train = pd.read_csv(\"./input/train_sample_utf8.csv\",encoding=\"utf8\")\n",
    "raw_test = pd.read_csv(\"./input/test_sample_utf8.csv\",encoding=\"utf8\")"
   ]
  },
  {
   "cell_type": "markdown",
   "metadata": {},
   "source": [
    "查看两个文件的前五行数据。"
   ]
  },
  {
   "cell_type": "code",
   "execution_count": 2,
   "metadata": {
    "collapsed": false
   },
   "outputs": [
    {
     "data": {
      "text/html": [
       "<div>\n",
       "<style scoped>\n",
       "    .dataframe tbody tr th:only-of-type {\n",
       "        vertical-align: middle;\n",
       "    }\n",
       "\n",
       "    .dataframe tbody tr th {\n",
       "        vertical-align: top;\n",
       "    }\n",
       "\n",
       "    .dataframe thead th {\n",
       "        text-align: right;\n",
       "    }\n",
       "</style>\n",
       "<table border=\"1\" class=\"dataframe\">\n",
       "  <thead>\n",
       "    <tr style=\"text-align: right;\">\n",
       "      <th></th>\n",
       "      <th>分类</th>\n",
       "      <th>文章</th>\n",
       "      <th>字数</th>\n",
       "    </tr>\n",
       "  </thead>\n",
       "  <tbody>\n",
       "    <tr>\n",
       "      <th>0</th>\n",
       "      <td>科技</td>\n",
       "      <td>“一路听天下”开拓“无聊经济” 在纳斯达克风光上市的分众传媒，得到国际五大风险投资商青睐的炎...</td>\n",
       "      <td>1954</td>\n",
       "    </tr>\n",
       "    <tr>\n",
       "      <th>1</th>\n",
       "      <td>旅游</td>\n",
       "      <td>中国赴美旅游首发团６月１７日启程　报价两万左右 六月初的一天，来自深圳的中国旅游团游客纷纷拿...</td>\n",
       "      <td>1177</td>\n",
       "    </tr>\n",
       "    <tr>\n",
       "      <th>2</th>\n",
       "      <td>新闻</td>\n",
       "      <td>科学家教育家蒙特梭利：给孩子爱与自由（图） 蒙特梭利和“儿童之家”的孩子们在一起我们的孩子想...</td>\n",
       "      <td>4571</td>\n",
       "    </tr>\n",
       "    <tr>\n",
       "      <th>3</th>\n",
       "      <td>教育</td>\n",
       "      <td>７名大学生作出“震后恢复建议”　获国务院肯定 大学生灾后重建报告获国务院肯定作出４万字建议案...</td>\n",
       "      <td>2288</td>\n",
       "    </tr>\n",
       "    <tr>\n",
       "      <th>4</th>\n",
       "      <td>教育</td>\n",
       "      <td>最牛高考生：重庆学生称“押中”今年作文题 最牛鼓劲：数学考试前百余考生吼“雄起”“雄起！雄起...</td>\n",
       "      <td>1838</td>\n",
       "    </tr>\n",
       "  </tbody>\n",
       "</table>\n",
       "</div>"
      ],
      "text/plain": [
       "   分类                                                 文章    字数\n",
       "0  科技  “一路听天下”开拓“无聊经济” 在纳斯达克风光上市的分众传媒，得到国际五大风险投资商青睐的炎...  1954\n",
       "1  旅游  中国赴美旅游首发团６月１７日启程　报价两万左右 六月初的一天，来自深圳的中国旅游团游客纷纷拿...  1177\n",
       "2  新闻  科学家教育家蒙特梭利：给孩子爱与自由（图） 蒙特梭利和“儿童之家”的孩子们在一起我们的孩子想...  4571\n",
       "3  教育  ７名大学生作出“震后恢复建议”　获国务院肯定 大学生灾后重建报告获国务院肯定作出４万字建议案...  2288\n",
       "4  教育  最牛高考生：重庆学生称“押中”今年作文题 最牛鼓劲：数学考试前百余考生吼“雄起”“雄起！雄起...  1838"
      ]
     },
     "execution_count": 2,
     "metadata": {},
     "output_type": "execute_result"
    }
   ],
   "source": [
    "raw_train.head(5)"
   ]
  },
  {
   "cell_type": "code",
   "execution_count": 3,
   "metadata": {
    "collapsed": false
   },
   "outputs": [
    {
     "data": {
      "text/html": [
       "<div>\n",
       "<style scoped>\n",
       "    .dataframe tbody tr th:only-of-type {\n",
       "        vertical-align: middle;\n",
       "    }\n",
       "\n",
       "    .dataframe tbody tr th {\n",
       "        vertical-align: top;\n",
       "    }\n",
       "\n",
       "    .dataframe thead th {\n",
       "        text-align: right;\n",
       "    }\n",
       "</style>\n",
       "<table border=\"1\" class=\"dataframe\">\n",
       "  <thead>\n",
       "    <tr style=\"text-align: right;\">\n",
       "      <th></th>\n",
       "      <th>分类</th>\n",
       "      <th>文章</th>\n",
       "    </tr>\n",
       "  </thead>\n",
       "  <tbody>\n",
       "    <tr>\n",
       "      <th>0</th>\n",
       "      <td>娱乐</td>\n",
       "      <td>影片《奥林匹亚》 影片《奥林匹亚》影片《奥林匹亚》剧情简介本片如英雄史诗般的奥运纪录片是德国...</td>\n",
       "    </tr>\n",
       "    <tr>\n",
       "      <th>1</th>\n",
       "      <td>女人</td>\n",
       "      <td>盘点男人出轨都会经历的五个过程 大凡男人都有背叛老婆的野心，或精神的背叛，或身体的背叛，又或...</td>\n",
       "    </tr>\n",
       "    <tr>\n",
       "      <th>2</th>\n",
       "      <td>文化</td>\n",
       "      <td>欧阳奋强点评新宝玉：他应该能够超越我（图） 来源：中国网四川新闻网－成都商报讯本报讯　（记者...</td>\n",
       "    </tr>\n",
       "    <tr>\n",
       "      <th>3</th>\n",
       "      <td>体育</td>\n",
       "      <td>法国意大利双雄渐现堕落　欧洲杯让世界杯见鬼去 来源：搜狐体育失望的亨利焦点人物新“三剑客　”...</td>\n",
       "    </tr>\n",
       "    <tr>\n",
       "      <th>4</th>\n",
       "      <td>房地产</td>\n",
       "      <td>业内论坛 版主：　毕普　ｔａｌｋａｔｉｖｅ　也是另类　华沉思　周海山　成业　醋咪　ｚｈａｍｕ...</td>\n",
       "    </tr>\n",
       "  </tbody>\n",
       "</table>\n",
       "</div>"
      ],
      "text/plain": [
       "    分类                                                 文章\n",
       "0   娱乐  影片《奥林匹亚》 影片《奥林匹亚》影片《奥林匹亚》剧情简介本片如英雄史诗般的奥运纪录片是德国...\n",
       "1   女人  盘点男人出轨都会经历的五个过程 大凡男人都有背叛老婆的野心，或精神的背叛，或身体的背叛，又或...\n",
       "2   文化  欧阳奋强点评新宝玉：他应该能够超越我（图） 来源：中国网四川新闻网－成都商报讯本报讯　（记者...\n",
       "3   体育  法国意大利双雄渐现堕落　欧洲杯让世界杯见鬼去 来源：搜狐体育失望的亨利焦点人物新“三剑客　”...\n",
       "4  房地产  业内论坛 版主：　毕普　ｔａｌｋａｔｉｖｅ　也是另类　华沉思　周海山　成业　醋咪　ｚｈａｍｕ..."
      ]
     },
     "execution_count": 3,
     "metadata": {},
     "output_type": "execute_result"
    }
   ],
   "source": [
    "raw_test.head(5)"
   ]
  },
  {
   "cell_type": "code",
   "execution_count": 4,
   "metadata": {
    "collapsed": false
   },
   "outputs": [
    {
     "data": {
      "text/plain": [
       "(5521, 3)"
      ]
     },
     "execution_count": 4,
     "metadata": {},
     "output_type": "execute_result"
    }
   ],
   "source": [
    "raw_train.shape"
   ]
  },
  {
   "cell_type": "code",
   "execution_count": 5,
   "metadata": {
    "collapsed": false
   },
   "outputs": [
    {
     "data": {
      "text/plain": [
       "(3111, 2)"
      ]
     },
     "execution_count": 5,
     "metadata": {},
     "output_type": "execute_result"
    }
   ],
   "source": [
    "raw_test.shape"
   ]
  },
  {
   "cell_type": "markdown",
   "metadata": {},
   "source": [
    "可见，训练集包含 5521 条新闻，测试集中包含 3111 条新闻。那么，训练集和测试集中，不同主题的新闻分布如何？我们可以借助 `DataFrame` 某列的 `value_counts` 方法完成统计。然后使用 `plot` 函数进行可视化显示。"
   ]
  },
  {
   "cell_type": "code",
   "execution_count": 7,
   "metadata": {
    "collapsed": false
   },
   "outputs": [
    {
     "data": {
      "text/plain": [
       "<matplotlib.axes._subplots.AxesSubplot at 0x7f2b5b8d2a58>"
      ]
     },
     "execution_count": 7,
     "metadata": {},
     "output_type": "execute_result"
    },
    {
     "data": {
      "image/png": "[encoded data removed]",
      "text/plain": [
       "<Figure size 1080x576 with 2 Axes>"
      ]
     },
     "metadata": {
      "needs_background": "light"
     },
     "output_type": "display_data"
    }
   ],
   "source": [
    "import matplotlib.pyplot as plt\n",
    "plt.figure(figsize=(15, 8))\n",
    "plt.subplot(1, 2, 1)\n",
    "raw_train[\"分类\"].value_counts().sort_index().plot(kind=\"barh\",title='训练集新闻主题分布')\n",
    "plt.subplot(1, 2, 2)\n",
    "raw_test[\"分类\"].value_counts().sort_index().plot(kind=\"barh\",title='测试集新闻主题分布')"
   ]
  },
  {
   "cell_type": "markdown",
   "metadata": {},
   "source": [
    "一共包含 12 种主题的新闻，无论是在训练集还是测试集，各个主题的新闻分布较均衡。"
   ]
  },
  {
   "cell_type": "markdown",
   "metadata": {
    "collapsed": true
   },
   "source": [
    "## 2 对新闻内容进行分词\n",
    "\n",
    "由于新闻为中文，再进一步进行处理之前，我们需要先对新闻内容进行分词。简单来说，分词就是将连在一起的新闻内容中的词进行分割。这里我们使用 Python 中一个著名的中文分析器 `jieba` 完成这项任务。为了后续方便，我们封装一个 `news_cut` 函数，它接受的输入为新闻内容，输出为分词后的结果。分词后，词与词之间使用空格进行分隔。"
   ]
  },
  {
   "cell_type": "code",
   "execution_count": 8,
   "metadata": {
    "collapsed": false
   },
   "outputs": [
    {
     "name": "stderr",
     "output_type": "stream",
     "text": [
      "Building prefix dict from the default dictionary ...\n",
      "Loading model from cache /tmp/jieba.cache\n",
      "Loading model cost 0.756 seconds.\n",
      "Prefix dict has been built succesfully.\n"
     ]
    },
    {
     "name": "stdout",
     "output_type": "stream",
     "text": [
      "六月 初 的 一天 ， 来自 深圳 的 中国 旅游团 游客 纷纷 拿 起 相机 拍摄 新奇 刺激 的 好莱坞 环球 影城 主题公园 场景 。\n"
     ]
    }
   ],
   "source": [
    "import jieba\n",
    "def news_cut(text):\n",
    "    return \" \".join(list(jieba.cut(text)))\n",
    "#简单测试下分词效果\n",
    "test_content = \"六月初的一天，来自深圳的中国旅游团游客纷纷拿起相机拍摄新奇刺激的好莱坞环球影城主题公园场景。\"\n",
    "print(news_cut(test_content))"
   ]
  },
  {
   "cell_type": "markdown",
   "metadata": {},
   "source": [
    "现在利用封装的分词函数，对训练集和测试集中的新闻内容进行分词处理，分词结果保存到对应 DataFrame 对象的 ”分词文章“ 一列。这里我们使用了 `Pandas` 中的 `Series` 对象的 `map` 函数。它能够接受一个函数，对 `Series` 中的每一个元素作为该函数的输入，然后将函数的输出返回。"
   ]
  },
  {
   "cell_type": "code",
   "execution_count": 9,
   "metadata": {
    "collapsed": false
   },
   "outputs": [],
   "source": [
    "raw_train[\"分词文章\"] = raw_train[\"文章\"].map(news_cut)\n",
    "raw_test[\"分词文章\"] = raw_test[\"文章\"].map(news_cut)"
   ]
  },
  {
   "cell_type": "code",
   "execution_count": 10,
   "metadata": {
    "collapsed": false
   },
   "outputs": [
    {
     "data": {
      "text/html": [
       "<div>\n",
       "<style scoped>\n",
       "    .dataframe tbody tr th:only-of-type {\n",
       "        vertical-align: middle;\n",
       "    }\n",
       "\n",
       "    .dataframe tbody tr th {\n",
       "        vertical-align: top;\n",
       "    }\n",
       "\n",
       "    .dataframe thead th {\n",
       "        text-align: right;\n",
       "    }\n",
       "</style>\n",
       "<table border=\"1\" class=\"dataframe\">\n",
       "  <thead>\n",
       "    <tr style=\"text-align: right;\">\n",
       "      <th></th>\n",
       "      <th>分类</th>\n",
       "      <th>文章</th>\n",
       "      <th>分词文章</th>\n",
       "    </tr>\n",
       "  </thead>\n",
       "  <tbody>\n",
       "    <tr>\n",
       "      <th>0</th>\n",
       "      <td>娱乐</td>\n",
       "      <td>影片《奥林匹亚》 影片《奥林匹亚》影片《奥林匹亚》剧情简介本片如英雄史诗般的奥运纪录片是德国...</td>\n",
       "      <td>影片 《 奥林匹亚 》   影片 《 奥林匹亚 》 影片 《 奥林匹亚 》 剧情简介 本片 ...</td>\n",
       "    </tr>\n",
       "    <tr>\n",
       "      <th>1</th>\n",
       "      <td>女人</td>\n",
       "      <td>盘点男人出轨都会经历的五个过程 大凡男人都有背叛老婆的野心，或精神的背叛，或身体的背叛，又或...</td>\n",
       "      <td>盘点 男人 出轨 都 会 经历 的 五个 过程   大凡 男人 都 有 背叛 老婆 的 野心...</td>\n",
       "    </tr>\n",
       "    <tr>\n",
       "      <th>2</th>\n",
       "      <td>文化</td>\n",
       "      <td>欧阳奋强点评新宝玉：他应该能够超越我（图） 来源：中国网四川新闻网－成都商报讯本报讯　（记者...</td>\n",
       "      <td>欧阳奋强 点评 新 宝玉 ： 他 应该 能够 超越 我 （ 图 ）   来源 ： 中国 网 ...</td>\n",
       "    </tr>\n",
       "    <tr>\n",
       "      <th>3</th>\n",
       "      <td>体育</td>\n",
       "      <td>法国意大利双雄渐现堕落　欧洲杯让世界杯见鬼去 来源：搜狐体育失望的亨利焦点人物新“三剑客　”...</td>\n",
       "      <td>法国 意大利 双雄 渐现 堕落 　 欧洲杯 让 世界杯 见鬼 去   来源 ： 搜狐 体育 ...</td>\n",
       "    </tr>\n",
       "    <tr>\n",
       "      <th>4</th>\n",
       "      <td>房地产</td>\n",
       "      <td>业内论坛 版主：　毕普　ｔａｌｋａｔｉｖｅ　也是另类　华沉思　周海山　成业　醋咪　ｚｈａｍｕ...</td>\n",
       "      <td>业内 论坛   版主 ： 　 毕普 　 ｔ ａ ｌ ｋ ａ ｔ ｉ ｖ ｅ 　 也 是 另类...</td>\n",
       "    </tr>\n",
       "  </tbody>\n",
       "</table>\n",
       "</div>"
      ],
      "text/plain": [
       "    分类                                                 文章  \\\n",
       "0   娱乐  影片《奥林匹亚》 影片《奥林匹亚》影片《奥林匹亚》剧情简介本片如英雄史诗般的奥运纪录片是德国...   \n",
       "1   女人  盘点男人出轨都会经历的五个过程 大凡男人都有背叛老婆的野心，或精神的背叛，或身体的背叛，又或...   \n",
       "2   文化  欧阳奋强点评新宝玉：他应该能够超越我（图） 来源：中国网四川新闻网－成都商报讯本报讯　（记者...   \n",
       "3   体育  法国意大利双雄渐现堕落　欧洲杯让世界杯见鬼去 来源：搜狐体育失望的亨利焦点人物新“三剑客　”...   \n",
       "4  房地产  业内论坛 版主：　毕普　ｔａｌｋａｔｉｖｅ　也是另类　华沉思　周海山　成业　醋咪　ｚｈａｍｕ...   \n",
       "\n",
       "                                                分词文章  \n",
       "0  影片 《 奥林匹亚 》   影片 《 奥林匹亚 》 影片 《 奥林匹亚 》 剧情简介 本片 ...  \n",
       "1  盘点 男人 出轨 都 会 经历 的 五个 过程   大凡 男人 都 有 背叛 老婆 的 野心...  \n",
       "2  欧阳奋强 点评 新 宝玉 ： 他 应该 能够 超越 我 （ 图 ）   来源 ： 中国 网 ...  \n",
       "3  法国 意大利 双雄 渐现 堕落 　 欧洲杯 让 世界杯 见鬼 去   来源 ： 搜狐 体育 ...  \n",
       "4  业内 论坛   版主 ： 　 毕普 　 ｔ ａ ｌ ｋ ａ ｔ ｉ ｖ ｅ 　 也 是 另类...  "
      ]
     },
     "execution_count": 10,
     "metadata": {},
     "output_type": "execute_result"
    }
   ],
   "source": [
    "raw_test.head(5)"
   ]
  },
  {
   "cell_type": "markdown",
   "metadata": {},
   "source": [
    "## 3 将新闻表示为向量"
   ]
  },
  {
   "cell_type": "code",
   "execution_count": 11,
   "metadata": {
    "collapsed": true
   },
   "outputs": [],
   "source": [
    "#加载停用词\n",
    "stop_words = []\n",
    "file = open(\"./input/stopwords.txt\") \n",
    "for line in file:\n",
    "    stop_words.append(line.strip())\n",
    "file.close()"
   ]
  },
  {
   "cell_type": "code",
   "execution_count": 12,
   "metadata": {
    "collapsed": true
   },
   "outputs": [],
   "source": [
    "from sklearn.feature_extraction.text import CountVectorizer\n",
    "vectorizer = CountVectorizer(stop_words=stop_words)\n",
    "X_train = vectorizer.fit_transform(raw_train[\"分词文章\"])\n",
    "X_test = vectorizer.transform(raw_test[\"分词文章\"])"
   ]
  },
  {
   "cell_type": "markdown",
   "metadata": {},
   "source": [
    "## 4 构建 KNN 分类器"
   ]
  },
  {
   "cell_type": "markdown",
   "metadata": {},
   "source": [
    "使用 `sklearn` 中 `neighbors` 模块的 `KNeighborsClassifier` 类构建一个 KNN 分类器。我们将邻居数 `n_neighbors` 设置为 5 。使用邻居的标签进行投票时，用预测样本与邻居样本的距离的倒数作为权重。然后使用 `fit` 方法，在训练集中训练模型。 "
   ]
  },
  {
   "cell_type": "code",
   "execution_count": 13,
   "metadata": {
    "collapsed": false
   },
   "outputs": [
    {
     "data": {
      "text/plain": [
       "KNeighborsClassifier(algorithm='auto', leaf_size=30, metric='minkowski',\n",
       "           metric_params=None, n_jobs=1, n_neighbors=5, p=2,\n",
       "           weights='distance')"
      ]
     },
     "execution_count": 13,
     "metadata": {},
     "output_type": "execute_result"
    }
   ],
   "source": [
    "from sklearn.neighbors import KNeighborsClassifier\n",
    "knn = KNeighborsClassifier(n_neighbors=5,weights=\"distance\")\n",
    "knn.fit(X_train, raw_train[\"分类\"])"
   ]
  },
  {
   "cell_type": "markdown",
   "metadata": {},
   "source": [
    "## 5 测试集新闻主题预测"
   ]
  },
  {
   "cell_type": "markdown",
   "metadata": {},
   "source": [
    "模型训练完成后，可以使用 `predict` 方法对测试集中的样本进行预测，得到预测标签列表 `Y_test` 。"
   ]
  },
  {
   "cell_type": "code",
   "execution_count": 14,
   "metadata": {
    "collapsed": true
   },
   "outputs": [],
   "source": [
    "Y_test = knn.predict(X_test)"
   ]
  },
  {
   "cell_type": "markdown",
   "metadata": {},
   "source": [
    "## 6 新闻主题分类效果进行评估"
   ]
  },
  {
   "cell_type": "markdown",
   "metadata": {},
   "source": [
    "下面使用混淆矩阵来分析模型在测试样本上的表现。混淆矩阵从样本的真实标签和模型预测标签两个维度对测试集样本进行分组统计，然后以矩阵的形式展示。借助混淆矩阵可以很好地分析模型在每一类样本上的分类效果。为了更直观地分析，我们借助 Python 中可视化包 `seaborn` 提供的 `heatmap` 函数，将混淆矩阵可视化。"
   ]
  },
  {
   "cell_type": "code",
   "execution_count": 20,
   "metadata": {
    "collapsed": false
   },
   "outputs": [
    {
     "data": {
      "text/plain": [
       "Text(0.5, 1.0, '混淆矩阵热力图')"
      ]
     },
     "execution_count": 20,
     "metadata": {},
     "output_type": "execute_result"
    },
    {
     "data": {
      "image/png": "[encoded data removed]",
      "text/plain": [
       "<Figure size 648x504 with 2 Axes>"
      ]
     },
     "metadata": {},
     "output_type": "display_data"
    }
   ],
   "source": [
    "from sklearn.metrics import confusion_matrix\n",
    "import seaborn as sns\n",
    "import matplotlib.pyplot as plt\n",
    "fig, ax = plt.subplots(figsize=(9, 7))\n",
    "## 设置正常显示中文\n",
    "sns.set(font='SimHei')\n",
    "## 绘制热力图\n",
    "ax = sns.heatmap(confusion_matrix(raw_test[\"分类\"].values,Y_test),linewidths=.5,cmap=\"Greens\",\n",
    "                 annot=True, fmt='d',xticklabels=knn.classes_, yticklabels=knn.classes_)\n",
    "ax.set_ylabel('真实')\n",
    "ax.set_xlabel('预测')\n",
    "ax.xaxis.set_label_position('top') \n",
    "ax.xaxis.tick_top()\n",
    "ax.set_title('混淆矩阵热力图')"
   ]
  },
  {
   "cell_type": "markdown",
   "metadata": {},
   "source": [
    "这还不是一个完美的新闻主题分类器，这个分类器倾向于将主题预测为\"教育\"或\"文化\"。要获得更好的效果，我们可能还需要做很多工作，例如更好的文本预处理和表示，尝试不同的 K 值的效果，甚至利用其它的机器学习算法等。感兴趣的同学可以自己进一步进行尝试。"
   ]
  }
 ],
 "metadata": {
  "kernelspec": {
   "display_name": "Python 2",
   "language": "python",
   "name": "python2"
  },
  "language_info": {
   "codemirror_mode": {
    "name": "ipython",
    "version": 3
   },
   "file_extension": ".py",
   "mimetype": "text/x-python",
   "name": "python",
   "nbconvert_exporter": "python",
   "pygments_lexer": "ipython3",
   "version": "3.6.5"
  }
 },
 "nbformat": 4,
 "nbformat_minor": 0
}
